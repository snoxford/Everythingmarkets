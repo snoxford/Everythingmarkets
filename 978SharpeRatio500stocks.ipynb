{
 "cells": [
  {
   "cell_type": "code",
   "execution_count": 3,
   "id": "25c1c930-b1e5-492a-a372-b4cf5c963bc6",
   "metadata": {},
   "outputs": [
    {
     "name": "stdout",
     "output_type": "stream",
     "text": [
      "    Ticker  2024 Return  2024 Std Dev  Sharpe Ratio\n",
      "361   PLTR   349.504950      0.643121      5.403413\n",
      "476    VST   267.350517      0.567212      4.678152\n",
      "348   NVDA   177.712900      0.525339      3.344752\n",
      "461    UAL   138.027152      0.447542      3.039428\n",
      "54    AXON   133.933356      0.449608      2.934409\n",
      "..     ...          ...           ...           ...\n",
      "178     EL   -48.390703      0.437598     -1.151531\n",
      "93      CE   -55.216197      0.390918     -1.463637\n",
      "250   INTC   -60.028963      0.512579     -1.210135\n",
      "320   MRNA   -60.402210      0.603295     -1.034356\n",
      "481    WBA   -62.764718      0.529008     -1.224268\n",
      "\n",
      "[503 rows x 4 columns]\n"
     ]
    }
   ],
   "source": [
    "# Added 2024 Sharpe Ratio to Previous Code to List 500 S&P 500 Stocks and their 2024 Returns and Standard Deviation\n",
    "\n",
    "import yfinance as yf\n",
    "import pandas as pd\n",
    "\n",
    "\n",
    "def get_sp500_tickers():\n",
    "    table = pd.read_html('https://en.wikipedia.org/wiki/List_of_S%26P_500_companies')\n",
    "    tickers = table[0]['Symbol'].tolist()\n",
    "    return tickers\n",
    "\n",
    "\n",
    "sp500_tickers = get_sp500_tickers()\n",
    "\n",
    "returns_data = []\n",
    "\n",
    "risk_free_rate = 0.02\n",
    "\n",
    "# Loop through each ticker and fetch historical data\n",
    "for ticker in sp500_tickers:\n",
    "    try:\n",
    "        # Replace dots in tickers with dashes for compatibility\n",
    "        adjusted_ticker = ticker.replace('.', '-')\n",
    "        stock_data = yf.Ticker(adjusted_ticker).history(start='2023-12-29', end='2024-12-31')\n",
    "        if not stock_data.empty:\n",
    "            start_price = stock_data.iloc[0]['Close']\n",
    "            end_price = stock_data.iloc[-1]['Close']\n",
    "            annual_return = (end_price - start_price) / start_price * 100\n",
    "\n",
    "            # Calculate daily returns\n",
    "            stock_data['Daily Return'] = stock_data['Close'].pct_change()\n",
    "            # Calculate the standard deviation of daily returns (annualized)\n",
    "            std_dev = stock_data['Daily Return'].std() * (252**0.5)\n",
    "\n",
    "            # Calculate the Sharpe ratio\n",
    "            sharpe_ratio = (annual_return / 100 - risk_free_rate) / std_dev\n",
    "\n",
    "            returns_data.append({'Ticker': ticker, '2024 Return': annual_return, '2024 Std Dev': std_dev, 'Sharpe Ratio': sharpe_ratio})\n",
    "    except Exception as e:\n",
    "        print(f\"Skipping {ticker} due to error: {e}\")\n",
    "\n",
    "\n",
    "returns_df = pd.DataFrame(returns_data)\n",
    "\n",
    "\n",
    "returns_df_sorted = returns_df.sort_values(by='2024 Return', ascending=False)\n",
    "\n",
    "\n",
    "print(returns_df_sorted[['Ticker', '2024 Return', '2024 Std Dev', 'Sharpe Ratio']])"
   ]
  },
  {
   "cell_type": "code",
   "execution_count": null,
   "id": "e99de907-30da-491e-88f0-7cb8600367cb",
   "metadata": {},
   "outputs": [],
   "source": []
  }
 ],
 "metadata": {
  "kernelspec": {
   "display_name": "Python 3 (ipykernel)",
   "language": "python",
   "name": "python3"
  },
  "language_info": {
   "codemirror_mode": {
    "name": "ipython",
    "version": 3
   },
   "file_extension": ".py",
   "mimetype": "text/x-python",
   "name": "python",
   "nbconvert_exporter": "python",
   "pygments_lexer": "ipython3",
   "version": "3.12.7"
  }
 },
 "nbformat": 4,
 "nbformat_minor": 5
}
