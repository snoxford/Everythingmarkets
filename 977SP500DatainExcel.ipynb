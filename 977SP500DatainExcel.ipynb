{
 "cells": [
  {
   "cell_type": "code",
   "execution_count": 5,
   "id": "b5af848a-9a04-4d53-ab18-f0f51e547792",
   "metadata": {},
   "outputs": [
    {
     "name": "stdout",
     "output_type": "stream",
     "text": [
      "    Ticker  2024 Return  2024 Std Dev  Sharpe Ratio\n",
      "361   PLTR   349.504950      0.643121      5.403413\n",
      "476    VST   267.350517      0.567212      4.678152\n",
      "348   NVDA   177.712900      0.525339      3.344752\n",
      "461    UAL   138.027152      0.447542      3.039428\n",
      "54    AXON   133.933356      0.449608      2.934409\n",
      "..     ...          ...           ...           ...\n",
      "178     EL   -48.390703      0.437598     -1.151531\n",
      "93      CE   -55.216197      0.390918     -1.463637\n",
      "250   INTC   -60.028963      0.512579     -1.210134\n",
      "320   MRNA   -60.402210      0.603295     -1.034356\n",
      "481    WBA   -62.764718      0.529008     -1.224268\n",
      "\n",
      "[503 rows x 4 columns]\n"
     ]
    }
   ],
   "source": [
    "# S&P500 2024 data analysis in Excel\n",
    "\n",
    "import yfinance as yf\n",
    "import pandas as pd\n",
    "\n",
    "def get_sp500_tickers():\n",
    "    table = pd.read_html('https://en.wikipedia.org/wiki/List_of_S%26P_500_companies')\n",
    "    tickers = table[0]['Symbol'].tolist()\n",
    "    return tickers\n",
    "\n",
    "sp500_tickers = get_sp500_tickers()\n",
    "\n",
    "returns_data = []\n",
    "risk_free_rate = 0.02\n",
    "\n",
    "# Initialize an Excel writer object to write data\n",
    "writer = pd.ExcelWriter('sp500_data.xlsx', engine='openpyxl')\n",
    "\n",
    "# Loop through each ticker and fetch historical data\n",
    "for ticker in sp500_tickers:\n",
    "    try:\n",
    "        # Replace dots in tickers with dashes for compatibility\n",
    "        adjusted_ticker = ticker.replace('.', '-')\n",
    "        stock_data = yf.Ticker(adjusted_ticker).history(start='2023-12-29', end='2024-12-31')\n",
    "\n",
    "        if not stock_data.empty:\n",
    "            # Remove timezone information from the datetime index\n",
    "            stock_data.index = stock_data.index.tz_localize(None)\n",
    "            \n",
    "            stock_data.to_excel(writer, sheet_name=ticker)  # Save historical data to Excel sheet named after the ticker\n",
    "\n",
    "            start_price = stock_data.iloc[0]['Close']\n",
    "            end_price = stock_data.iloc[-1]['Close']\n",
    "            annual_return = (end_price - start_price) / start_price * 100\n",
    "\n",
    "            # Calculate daily returns\n",
    "            stock_data['Daily Return'] = stock_data['Close'].pct_change()\n",
    "            # Calculate the standard deviation of daily returns (annualized)\n",
    "            std_dev = stock_data['Daily Return'].std() * (252**0.5)\n",
    "\n",
    "            # Calculate the Sharpe ratio\n",
    "            sharpe_ratio = (annual_return / 100 - risk_free_rate) / std_dev\n",
    "\n",
    "            returns_data.append({'Ticker': ticker, '2024 Return': annual_return, '2024 Std Dev': std_dev, 'Sharpe Ratio': sharpe_ratio})\n",
    "    except Exception as e:\n",
    "        print(f\"Skipping {ticker} due to error: {e}\")\n",
    "\n",
    "returns_df = pd.DataFrame(returns_data)\n",
    "returns_df_sorted = returns_df.sort_values(by='2024 Return', ascending=False)\n",
    "\n",
    "# Save the sorted returns data to a new sheet called 'Output'\n",
    "returns_df_sorted.to_excel(writer, sheet_name='Output', index=False)\n",
    "\n",
    "# Save and close the Excel file\n",
    "writer.close()\n",
    "\n",
    "print(returns_df_sorted[['Ticker', '2024 Return', '2024 Std Dev', 'Sharpe Ratio']])\n"
   ]
  },
  {
   "cell_type": "code",
   "execution_count": null,
   "id": "35d24643-c03b-4d09-adff-e6d4cc3c0640",
   "metadata": {},
   "outputs": [],
   "source": []
  }
 ],
 "metadata": {
  "kernelspec": {
   "display_name": "Python 3 (ipykernel)",
   "language": "python",
   "name": "python3"
  },
  "language_info": {
   "codemirror_mode": {
    "name": "ipython",
    "version": 3
   },
   "file_extension": ".py",
   "mimetype": "text/x-python",
   "name": "python",
   "nbconvert_exporter": "python",
   "pygments_lexer": "ipython3",
   "version": "3.12.7"
  }
 },
 "nbformat": 4,
 "nbformat_minor": 5
}
