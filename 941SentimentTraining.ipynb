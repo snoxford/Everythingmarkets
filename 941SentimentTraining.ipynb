{
 "cells": [
  {
   "cell_type": "code",
   "execution_count": null,
   "id": "541dba12-e175-4068-9075-cc3e7f1aeb46",
   "metadata": {},
   "outputs": [
    {
     "name": "stdout",
     "output_type": "stream",
     "text": [
      "Stock Tweet Sentiment Classifier - Type 'exit' to quit.\n"
     ]
    },
    {
     "name": "stdin",
     "output_type": "stream",
     "text": [
      "\n",
      "Enter a stock tweet:  Microsoft... wow!\n"
     ]
    },
    {
     "name": "stdout",
     "output_type": "stream",
     "text": [
      "Sentiment: bullish\n"
     ]
    },
    {
     "name": "stdin",
     "output_type": "stream",
     "text": [
      "\n",
      "Enter a stock tweet:  Google reported amazing results\n"
     ]
    },
    {
     "name": "stdout",
     "output_type": "stream",
     "text": [
      "Sentiment: bullish\n"
     ]
    },
    {
     "name": "stdin",
     "output_type": "stream",
     "text": [
      "\n",
      "Enter a stock tweet:  Tesla is terrible man\n"
     ]
    },
    {
     "name": "stdout",
     "output_type": "stream",
     "text": [
      "Sentiment: bearish\n"
     ]
    }
   ],
   "source": [
    "# Stock Tweet Sentiment Classifier: Bullish, Bearish, or Neutral\n",
    "\n",
    "from sklearn.feature_extraction.text import CountVectorizer\n",
    "from sklearn.naive_bayes import MultinomialNB\n",
    "\n",
    "# Training the model\n",
    "tweets = [\n",
    "    \"I'm buying more $AAPL tomorrow!\",         # Bullish\n",
    "    \"$TSLA to the moon!\",                      # Bullish\n",
    "    \"Strong quarter for $MSFT\",                # Bullish\n",
    "    \"$GOOG is overvalued, expecting a drop\",   # Bearish\n",
    "    \"Selling all my $NFLX shares\",             # Bearish\n",
    "    \"Not looking good for $AMZN\",              # Bearish\n",
    "    \"$SPY closed flat today\",                  # Neutral\n",
    "    \"Watching $NVDA, no action yet\",           # Neutral\n",
    "    \"Market was uneventful\",                   # Neutral\n",
    "    \"Microsoft reported great results\",        # Bullish ✅ NEW\n",
    "    \"Microsoft wow!\",                          # Bullish ✅ NEW\n",
    "    \"Terrible earnings report from $TSLA\",     # Bearish ✅ NEW\n",
    "    \"$AAPL is stable right now\",               # Neutral ✅ NEW\n",
    "]\n",
    "labels = [\n",
    "    'bullish', 'bullish', 'bullish',\n",
    "    'bearish', 'bearish', 'bearish',\n",
    "    'neutral', 'neutral', 'neutral',\n",
    "    'bullish', 'bullish', 'bearish', 'neutral'\n",
    "]\n",
    "\n",
    "\n",
    "# Vectorize text data\n",
    "vectorizer = CountVectorizer()\n",
    "X = vectorizer.fit_transform(tweets)\n",
    "\n",
    "# Train the classifier\n",
    "model = MultinomialNB()\n",
    "model.fit(X, labels)\n",
    "\n",
    "# Predict sentiment on new tweets\n",
    "print(\"Stock Tweet Sentiment Classifier - Type 'exit' to quit.\")\n",
    "while True:\n",
    "    tweet = input(\"\\nEnter a stock tweet: \")\n",
    "    if tweet.lower() == 'exit':\n",
    "        break\n",
    "    tweet_vector = vectorizer.transform([tweet])\n",
    "    prediction = model.predict(tweet_vector)\n",
    "    print(f\"Sentiment: {prediction[0]}\")\n"
   ]
  },
  {
   "cell_type": "code",
   "execution_count": null,
   "id": "3bc8348a-c590-4249-b3a7-4d33960ecd82",
   "metadata": {},
   "outputs": [],
   "source": []
  }
 ],
 "metadata": {
  "kernelspec": {
   "display_name": "Python 3 (ipykernel)",
   "language": "python",
   "name": "python3"
  },
  "language_info": {
   "codemirror_mode": {
    "name": "ipython",
    "version": 3
   },
   "file_extension": ".py",
   "mimetype": "text/x-python",
   "name": "python",
   "nbconvert_exporter": "python",
   "pygments_lexer": "ipython3",
   "version": "3.10.0"
  }
 },
 "nbformat": 4,
 "nbformat_minor": 5
}
