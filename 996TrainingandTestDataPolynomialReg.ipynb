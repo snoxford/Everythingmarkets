{
 "cells": [
  {
   "cell_type": "code",
   "execution_count": 15,
   "id": "f949e33d-78eb-4f73-8af3-27dde4f18bb6",
   "metadata": {},
   "outputs": [
    {
     "name": "stdout",
     "output_type": "stream",
     "text": [
      "Test score: 0.8647013578577754\n",
      "\n",
      " Price = 14813.834778862103 + (0.0) * 1 + (8670.183714004677) * Length + (-17223.305409434426) * Width + (2532.5690773682536) * Depth + (585.7503111025753) * Length^2 + (851.6925555140024) * Length Width + (-5853.215849685421) * Length Depth + (-436.8213297957259) * Width^2 + (5648.736210326639) * Width Depth + (-46.68771361665563) * Depth^2\n"
     ]
    }
   ],
   "source": [
    "## Updated to split the data into training and test data\n",
    "## Program to run polynomial regression to determine price of Diamonds using Length, Width and Depth\n",
    "\n",
    "import pandas as pd\n",
    "from sklearn.preprocessing import PolynomialFeatures\n",
    "from sklearn.linear_model import LinearRegression\n",
    "from sklearn.pipeline import Pipeline\n",
    "from sklearn.model_selection import train_test_split\n",
    "\n",
    "# Load the data from the Excel file\n",
    "file_path = 'DiamondPrice.xlsx'  # Replace with your actual file path\n",
    "data = pd.read_excel(file_path)\n",
    "\n",
    "# Define the features and target variable\n",
    "X = data[['Length', 'Width', 'Depth']]\n",
    "y = data['Price']\n",
    "\n",
    "X_train, X_test, y_train, y_test = train_test_split(X, y, test_size=0.2, random_state=42)\n",
    "\n",
    "# Create a pipeline that will create polynomial features and then fit a linear regression model\n",
    "degree = 2  # Replace with the degree of the polynomial you want to use\n",
    "pipeline = Pipeline([\n",
    "    ('poly_features', PolynomialFeatures(degree=degree)),\n",
    "    ('linear_regression', LinearRegression())\n",
    "])\n",
    "\n",
    "# Fit the model on the training data \n",
    "pipeline.fit(X_train, y_train) \n",
    "\n",
    "# Evaluate the model on the test data \n",
    "score = pipeline.score(X_test, y_test) \n",
    "print(f'Test score: {score}')\n",
    "\n",
    "\n",
    "\n",
    "# Get the model coefficients\n",
    "poly_features = pipeline.named_steps['poly_features']\n",
    "linear_regression = pipeline.named_steps['linear_regression']\n",
    "\n",
    "coefficients = linear_regression.coef_\n",
    "intercept = linear_regression.intercept_\n",
    "\n",
    "# Get the names of the polynomial features\n",
    "feature_names = poly_features.get_feature_names_out(['Length', 'Width', 'Depth'])\n",
    "\n",
    "# Print the regression equation\n",
    "equation = f\"Price = {intercept}\"\n",
    "for coef, feature in zip(coefficients, feature_names):\n",
    "    equation += f\" + ({coef}) * {feature}\"\n",
    "\n",
    "print(\"\\n\",equation)\n"
   ]
  },
  {
   "cell_type": "code",
   "execution_count": null,
   "id": "0bed5898-b86a-4b89-9b32-9229993b7df5",
   "metadata": {},
   "outputs": [],
   "source": []
  }
 ],
 "metadata": {
  "kernelspec": {
   "display_name": "Python 3 (ipykernel)",
   "language": "python",
   "name": "python3"
  },
  "language_info": {
   "codemirror_mode": {
    "name": "ipython",
    "version": 3
   },
   "file_extension": ".py",
   "mimetype": "text/x-python",
   "name": "python",
   "nbconvert_exporter": "python",
   "pygments_lexer": "ipython3",
   "version": "3.12.7"
  }
 },
 "nbformat": 4,
 "nbformat_minor": 5
}
