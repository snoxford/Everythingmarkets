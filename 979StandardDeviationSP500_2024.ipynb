{
 "cells": [
  {
   "cell_type": "code",
   "execution_count": 1,
   "id": "e175eb44-1dd2-4562-92b0-9686fabcfa5f",
   "metadata": {},
   "outputs": [
    {
     "name": "stdout",
     "output_type": "stream",
     "text": [
      "    Ticker  2024 Return  2024 Std Dev\n",
      "361   PLTR   349.504950      0.643121\n",
      "476    VST   267.350517      0.567212\n",
      "348   NVDA   177.712900      0.525339\n",
      "461    UAL   138.027152      0.447542\n",
      "54    AXON   133.933356      0.449608\n",
      "..     ...          ...           ...\n",
      "178     EL   -48.390703      0.437598\n",
      "93      CE   -55.216197      0.390918\n",
      "250   INTC   -60.028963      0.512579\n",
      "320   MRNA   -60.402210      0.603295\n",
      "481    WBA   -62.764718      0.529008\n",
      "\n",
      "[503 rows x 3 columns]\n"
     ]
    }
   ],
   "source": [
    "# Added 2024 Standard Deviation to Previous Code to List 500 S&P 500 Stocks and their 2024 Returns\n",
    "\n",
    "\n",
    "import yfinance as yf\n",
    "import pandas as pd\n",
    "\n",
    "# Define a function to fetch S&P 500 tickers\n",
    "def get_sp500_tickers():\n",
    "    table = pd.read_html('https://en.wikipedia.org/wiki/List_of_S%26P_500_companies')\n",
    "    tickers = table[0]['Symbol'].tolist()\n",
    "    return tickers\n",
    "\n",
    "# Get S&P 500 ticker symbols\n",
    "sp500_tickers = get_sp500_tickers()\n",
    "\n",
    "# Create a DataFrame to store stock data\n",
    "returns_data = []\n",
    "\n",
    "# Loop through each ticker and fetch historical data\n",
    "for ticker in sp500_tickers:\n",
    "    try:\n",
    "        # Replace dots in tickers with dashes for compatibility\n",
    "        adjusted_ticker = ticker.replace('.', '-')\n",
    "        stock_data = yf.Ticker(adjusted_ticker).history(start='2023-12-29', end='2024-12-31')\n",
    "        if not stock_data.empty:\n",
    "            start_price = stock_data.iloc[0]['Close']\n",
    "            end_price = stock_data.iloc[-1]['Close']\n",
    "            annual_return = (end_price - start_price) / start_price * 100\n",
    "\n",
    "            # Calculate daily returns\n",
    "            stock_data['Daily Return'] = stock_data['Close'].pct_change()\n",
    "            # Calculate the standard deviation of daily returns (annualized)\n",
    "            std_dev = stock_data['Daily Return'].std() * (252**0.5)\n",
    "\n",
    "            returns_data.append({'Ticker': ticker, '2024 Return': annual_return, '2024 Std Dev': std_dev})\n",
    "    except Exception as e:\n",
    "        print(f\"Skipping {ticker} due to error: {e}\")\n",
    "\n",
    "# Create DataFrame from returns data\n",
    "returns_df = pd.DataFrame(returns_data)\n",
    "\n",
    "# Sort the stocks by 2024 return in descending order\n",
    "returns_df_sorted = returns_df.sort_values(by='2024 Return', ascending=False)\n",
    "\n",
    "# Print the sorted list with returns and standard deviation\n",
    "print(returns_df_sorted[['Ticker', '2024 Return', '2024 Std Dev']])\n"
   ]
  },
  {
   "cell_type": "code",
   "execution_count": null,
   "id": "78b10528-bf3e-47a1-bcee-d230721fdda8",
   "metadata": {},
   "outputs": [],
   "source": []
  }
 ],
 "metadata": {
  "kernelspec": {
   "display_name": "Python 3 (ipykernel)",
   "language": "python",
   "name": "python3"
  },
  "language_info": {
   "codemirror_mode": {
    "name": "ipython",
    "version": 3
   },
   "file_extension": ".py",
   "mimetype": "text/x-python",
   "name": "python",
   "nbconvert_exporter": "python",
   "pygments_lexer": "ipython3",
   "version": "3.12.7"
  }
 },
 "nbformat": 4,
 "nbformat_minor": 5
}
