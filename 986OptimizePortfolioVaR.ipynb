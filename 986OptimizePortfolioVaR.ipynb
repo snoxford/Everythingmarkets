{
 "cells": [
  {
   "cell_type": "code",
   "execution_count": 1,
   "id": "1cbf1e5f-8bf9-4dad-a55a-8eea0affdf5e",
   "metadata": {},
   "outputs": [
    {
     "name": "stdout",
     "output_type": "stream",
     "text": [
      "\n",
      "MSFT:GOOG Ratio and Portfolio VaR at 95% confidence level:\n",
      "MSFT: 0.0, GOOG: 1.0 -> Portfolio VaR: 0.09%\n",
      "MSFT: 0.1, GOOG: 0.9 -> Portfolio VaR: 0.07%\n",
      "MSFT: 0.2, GOOG: 0.8 -> Portfolio VaR: 0.07%\n",
      "MSFT: 0.3, GOOG: 0.7 -> Portfolio VaR: 0.07%\n",
      "MSFT: 0.4, GOOG: 0.6 -> Portfolio VaR: 0.07%\n",
      "MSFT: 0.5, GOOG: 0.5 -> Portfolio VaR: 0.08%\n",
      "MSFT: 0.6, GOOG: 0.4 -> Portfolio VaR: 0.09%\n",
      "MSFT: 0.7, GOOG: 0.3 -> Portfolio VaR: 0.09%\n",
      "MSFT: 0.8, GOOG: 0.2 -> Portfolio VaR: 0.10%\n",
      "MSFT: 0.9, GOOG: 0.1 -> Portfolio VaR: 0.08%\n",
      "MSFT: 1.0, GOOG: 0.0 -> Portfolio VaR: 0.08%\n",
      "\n",
      "Minimum Absolute Portfolio VaR is at MSFT: 0.4, GOOG: 0.6 with VaR: 0.07%\n"
     ]
    }
   ],
   "source": [
    "# Optimize Portfolio VaR by Adjusting Composition of MSFT and GOOG in the portfolio\n",
    "\n",
    "\n",
    "import pandas as pd\n",
    "import matplotlib.pyplot as plt\n",
    "import yfinance as yf\n",
    "import numpy as np\n",
    "\n",
    "# Define the stock symbols and the period\n",
    "symbols = ['GOOG', 'MSFT', 'SPY']\n",
    "period = '5y'\n",
    "\n",
    "# Create an empty DataFrame to store the closing prices\n",
    "data = pd.DataFrame()\n",
    "\n",
    "# Fetch the closing prices for each stock\n",
    "for symbol in symbols:\n",
    "    data[symbol] = yf.Ticker(symbol).history(period=period)['Close']\n",
    "\n",
    "# Normalize the prices so they all start at $1\n",
    "normalized_data = data / data.iloc[0] * 1\n",
    "\n",
    "# Calculate daily returns for each stock\n",
    "returns = data.pct_change().dropna()\n",
    "\n",
    "# Calculate Value at Risk (VaR) for GOOG and MSFT\n",
    "confidence_level = 0.95  # 95% confidence level\n",
    "VaR = {}\n",
    "\n",
    "for symbol in ['GOOG', 'MSFT']:\n",
    "    # Calculate the daily VaR\n",
    "    daily_returns = returns[symbol]\n",
    "    VaR[symbol] = np.percentile(daily_returns, (1 - confidence_level) * 100)\n",
    "\n",
    "# Function to calculate Portfolio VaR\n",
    "def portfolio_var(weights):\n",
    "    portfolio_returns = returns[['GOOG', 'MSFT']].dot(weights)\n",
    "    portfolio_VaR = np.percentile(np.abs(portfolio_returns), (1 - confidence_level) * 100)\n",
    "    return portfolio_VaR\n",
    "\n",
    "# Calculate VaR for different ratios of MSFT and GOOG\n",
    "ratios = np.arange(0, 1.1, 0.1)\n",
    "portfolio_VaRs = []\n",
    "\n",
    "for ratio in ratios:\n",
    "    weights = [ratio, 1 - ratio]\n",
    "    portfolio_VaR = portfolio_var(weights)\n",
    "    portfolio_VaRs.append((weights, portfolio_VaR))\n",
    "    \n",
    "# Find the ratio with minimum absolute VaR\n",
    "min_var_ratio = min(portfolio_VaRs, key=lambda x: x[1])\n",
    "\n",
    "# Print the results\n",
    "print(\"\\nMSFT:GOOG Ratio and Portfolio VaR at 95% confidence level:\")\n",
    "for weights, portfolio_VaR in portfolio_VaRs:\n",
    "    print(f\"MSFT: {weights[0]:.1f}, GOOG: {weights[1]:.1f} -> Portfolio VaR: {portfolio_VaR * 100:.2f}%\")\n",
    "\n",
    "# Print the ratio with minimum absolute VaR\n",
    "print(f\"\\nMinimum Absolute Portfolio VaR is at MSFT: {min_var_ratio[0][0]:.1f}, GOOG: {min_var_ratio[0][1]:.1f} with VaR: {min_var_ratio[1] * 100:.2f}%\")"
   ]
  },
  {
   "cell_type": "code",
   "execution_count": null,
   "id": "c8980d2a-16df-4456-945b-da10cd45bf31",
   "metadata": {},
   "outputs": [],
   "source": []
  }
 ],
 "metadata": {
  "kernelspec": {
   "display_name": "Python 3 (ipykernel)",
   "language": "python",
   "name": "python3"
  },
  "language_info": {
   "codemirror_mode": {
    "name": "ipython",
    "version": 3
   },
   "file_extension": ".py",
   "mimetype": "text/x-python",
   "name": "python",
   "nbconvert_exporter": "python",
   "pygments_lexer": "ipython3",
   "version": "3.12.7"
  }
 },
 "nbformat": 4,
 "nbformat_minor": 5
}
