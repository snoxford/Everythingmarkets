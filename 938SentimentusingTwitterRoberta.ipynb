{
 "cells": [
  {
   "cell_type": "code",
   "execution_count": 2,
   "id": "8327bd63-aa26-4ba2-ab35-873eba42b322",
   "metadata": {},
   "outputs": [
    {
     "name": "stderr",
     "output_type": "stream",
     "text": [
      "Some weights of the model checkpoint at cardiffnlp/twitter-roberta-base-sentiment-latest were not used when initializing RobertaForSequenceClassification: ['roberta.pooler.dense.bias', 'roberta.pooler.dense.weight']\n",
      "- This IS expected if you are initializing RobertaForSequenceClassification from the checkpoint of a model trained on another task or with another architecture (e.g. initializing a BertForSequenceClassification model from a BertForPreTraining model).\n",
      "- This IS NOT expected if you are initializing RobertaForSequenceClassification from the checkpoint of a model that you expect to be exactly identical (initializing a BertForSequenceClassification model from a BertForSequenceClassification model).\n",
      "Device set to use cpu\n"
     ]
    },
    {
     "name": "stdin",
     "output_type": "stream",
     "text": [
      "Enter the article URL:  https://www.msn.com/en-us/money/topstocks/surprising-microsoft-earnings-sends-stock-surging/ar-AA1DXcVR?ocid=BingNewsSerp\n"
     ]
    },
    {
     "name": "stdout",
     "output_type": "stream",
     "text": [
      "Sentiment: positive (Confidence: 0.4013)\n"
     ]
    }
   ],
   "source": [
    "# The code takes a URL as input and updates the sentiment of the article using Twitter Roberta model\n",
    "\n",
    "import requests\n",
    "from bs4 import BeautifulSoup\n",
    "from transformers import pipeline\n",
    "\n",
    "# Initialize sentiment analysis pipeline\n",
    "sentiment_pipeline = pipeline(\"sentiment-analysis\", model=\"cardiffnlp/twitter-roberta-base-sentiment-latest\")\n",
    "\n",
    "# Function to fetch and clean article content\n",
    "def fetch_first_lines(url, num_lines=5):\n",
    "    response = requests.get(url)\n",
    "    soup = BeautifulSoup(response.content, \"html.parser\")\n",
    "    # Extract text from <p> tags\n",
    "    paragraphs = [p.get_text() for p in soup.find_all(\"p\")]\n",
    "    article_text = \" \".join(paragraphs)\n",
    "    # Split into individual lines\n",
    "    lines = article_text.split(\". \")\n",
    "    # Take the first few lines\n",
    "    selected_text = \". \".join(lines[:num_lines])\n",
    "    return selected_text\n",
    "\n",
    "# Function to analyze sentiment of the first few lines\n",
    "def analyze_article_sentiment(url):\n",
    "    article_excerpt = fetch_first_lines(url)\n",
    "    result = sentiment_pipeline(article_excerpt)[0]\n",
    "    sentiment = result['label']\n",
    "    confidence = result['score']\n",
    "    return sentiment, confidence\n",
    "\n",
    "# Example usage\n",
    "url = input(\"Enter the article URL: \")\n",
    "try:\n",
    "    sentiment, confidence = analyze_article_sentiment(url)\n",
    "    print(f\"Sentiment: {sentiment} (Confidence: {confidence:.4f})\")\n",
    "except Exception as e:\n",
    "    print(f\"An error occurred: {e}\")\n"
   ]
  },
  {
   "cell_type": "code",
   "execution_count": null,
   "id": "7f3262dd-bb15-4da9-a009-07f0ce78d616",
   "metadata": {},
   "outputs": [],
   "source": []
  }
 ],
 "metadata": {
  "kernelspec": {
   "display_name": "Python 3 (ipykernel)",
   "language": "python",
   "name": "python3"
  },
  "language_info": {
   "codemirror_mode": {
    "name": "ipython",
    "version": 3
   },
   "file_extension": ".py",
   "mimetype": "text/x-python",
   "name": "python",
   "nbconvert_exporter": "python",
   "pygments_lexer": "ipython3",
   "version": "3.10.0"
  }
 },
 "nbformat": 4,
 "nbformat_minor": 5
}
