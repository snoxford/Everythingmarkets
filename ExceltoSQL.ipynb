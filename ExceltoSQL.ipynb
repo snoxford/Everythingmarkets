{
 "cells": [
  {
   "cell_type": "code",
   "execution_count": 7,
   "id": "8cbdb960-ad4b-4075-870f-adfa793824c7",
   "metadata": {},
   "outputs": [
    {
     "name": "stdout",
     "output_type": "stream",
     "text": [
      "Data from Database:\n",
      "('Acer', 3)\n",
      "('Apple', 3)\n",
      "('Asus', 3)\n",
      "('Dell', 3)\n",
      "('Google', 3)\n",
      "('HP', 3)\n",
      "('Lenovo', 3)\n",
      "('Microsoft', 3)\n",
      "('Samsung', 3)\n",
      "('Sony', 3)\n",
      "Transferred from Excel to the SQL database\n"
     ]
    }
   ],
   "source": [
    "##Code to transfer Excel data to an SQL database stored locally \n",
    "\n",
    "import pandas as pd\n",
    "import sqlite3\n",
    "\n",
    "# Read a specific sheet from the Excel file \n",
    "excel_file_path = 'Products_data.xlsx' \n",
    "sheet_name = 'Brand_Total_Rows' \n",
    "df = pd.read_excel(excel_file_path,sheet_name = sheet_name)\n",
    "\n",
    "# Connect to the local SQL database\n",
    "db_path = 'your_database.db'\n",
    "conn = sqlite3.connect(db_path)\n",
    "cursor = conn.cursor()\n",
    "\n",
    "# Create a table (replace 'your_table_name' and adjust columns as needed)\n",
    "df.to_sql('your_table_name', conn, if_exists='replace', index=False)\n",
    "\n",
    "# Commit the transaction\n",
    "conn.commit()\n",
    "\n",
    "# Check access and execute a simple SQL command\n",
    "try:\n",
    "    cursor.execute(\"SELECT * FROM your_table_name\")\n",
    "    results = cursor.fetchall()\n",
    "    print(\"Data from Database:\")\n",
    "    for row in results:\n",
    "        print(row)\n",
    "except sqlite3.Error as e:\n",
    "    print(f\"An error occurred: {e}\")\n",
    "\n",
    "# Close the connection\n",
    "conn.close()\n",
    "\n",
    "print(\"Transferred from Excel to the SQL database\")"
   ]
  },
  {
   "cell_type": "code",
   "execution_count": null,
   "id": "92933fe6-5777-41ff-8161-5df579246728",
   "metadata": {},
   "outputs": [],
   "source": []
  }
 ],
 "metadata": {
  "kernelspec": {
   "display_name": "Python 3 (ipykernel)",
   "language": "python",
   "name": "python3"
  },
  "language_info": {
   "codemirror_mode": {
    "name": "ipython",
    "version": 3
   },
   "file_extension": ".py",
   "mimetype": "text/x-python",
   "name": "python",
   "nbconvert_exporter": "python",
   "pygments_lexer": "ipython3",
   "version": "3.12.7"
  }
 },
 "nbformat": 4,
 "nbformat_minor": 5
}
