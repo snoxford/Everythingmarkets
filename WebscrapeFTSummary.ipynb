{
 "cells": [
  {
   "cell_type": "code",
   "execution_count": 21,
   "id": "def4d934-9a8e-4625-86f5-6325aa287e37",
   "metadata": {},
   "outputs": [
    {
     "name": "stdout",
     "output_type": "stream",
     "text": [
      "[<p class=\"standfirst\"><a aria-hidden=\"false\" class=\"link\" data-trackable=\"standfirst-link\" data-trackable-context-story-link=\"standfirst-link\" href=\"/content/83ad844b-8ebd-45a9-9c12-9c4c8506e25b\" target=\"_self\"><span class=\"text text--color-black-60 text-sans--scale-0 text--style--no-active-state\" id=\"\">Ukrainian intelligence says weapons being sent to Russia’s Kursk region to attack Kyiv’s forces </span></a></p>, <p class=\"standfirst\"><a aria-hidden=\"false\" class=\"link\" data-trackable=\"standfirst-link\" data-trackable-context-story-link=\"standfirst-link\" href=\"/content/3710bf14-010e-412d-83c7-b07773d6a45f\" target=\"_self\"><span class=\"text text--color-black-60 text-sans--scale-0 text--style--no-active-state\" id=\"\">President-elect wants to force Tehran to drop its nuclear programme and stop funding regional proxies</span></a></p>, <p class=\"standfirst\"><a aria-hidden=\"false\" class=\"link\" data-trackable=\"standfirst-link\" data-trackable-context-story-link=\"standfirst-link\" href=\"/content/a3d6019a-f618-4a88-bf4b-e35c4b596f91\" target=\"_self\"><span class=\"text text--color-black-60 text-sans--scale-0 text--style--no-active-state\" id=\"\">Controversial picks such as Matt Gaetz and Robert F Kennedy Jr will face hurdles even in a Republican-controlled Senate</span></a></p>, <p class=\"standfirst\"><a aria-hidden=\"false\" class=\"link\" data-trackable=\"standfirst-link\" data-trackable-context-story-link=\"standfirst-link\" href=\"/content/f266ce91-237a-4c0b-8b08-e90943ec8d01\" target=\"_self\"><span class=\"text text--color-black-60 text-sans--scale-0 text--style--no-active-state\" id=\"\">Prime minister will defend ‘hard decisions’ in speech to Welsh Labour conference on Saturday  </span></a></p>, <p class=\"standfirst\"><a aria-hidden=\"false\" class=\"link\" data-trackable=\"standfirst-link\" data-trackable-context-story-link=\"standfirst-link\" href=\"/content/fe50235c-8129-40cc-9fd0-08c38ddbf1ad\" target=\"_self\"><span class=\"text text--color-black-60 text-sans--scale-0 text--style--no-active-state\" id=\"\">Carmakers fear goals unreachable as consumer demand softens</span></a></p>, <p class=\"standfirst\"><a aria-hidden=\"false\" class=\"link\" data-trackable=\"standfirst-link\" data-trackable-context-story-link=\"standfirst-link\" href=\"/content/2ade9a92-e81e-46ca-87f9-a0695f6120d5\" target=\"_self\"><span class=\"text text--color-black-60 text-sans--scale-0 text--style--no-active-state\" id=\"\">Share price in US president-elect’s media group has been slipping despite high turnover among retail investors</span></a></p>, <p class=\"standfirst\"><a aria-hidden=\"false\" class=\"link\" data-trackable=\"standfirst-link\" data-trackable-context-story-link=\"standfirst-link\" href=\"/content/9362839b-01e7-4b21-89a6-09f7b112dfc0\" target=\"_self\"><span class=\"text text--color-black-60 text-sans--scale-0 text--style--no-active-state\" id=\"\">As more international ‘digital nomads’ contemplate turning a ski-holiday retreat into four-season mountain living, resorts and architects are stepping up to meet new expectations </span></a></p>, <p class=\"standfirst\"><a aria-hidden=\"false\" class=\"link\" data-trackable=\"standfirst-link\" data-trackable-context-story-link=\"standfirst-link\" href=\"/content/84473c6c-c7ac-4cd7-94ec-90c2ce61d22e\" target=\"_self\"><span class=\"text text--color-black-60 text-sans--scale-0 text--style--no-active-state\" id=\"\">A safari in the country’s far north tracks back 1.6 million years to the roots of humanity</span></a></p>, <p class=\"standfirst\"><a aria-hidden=\"false\" class=\"link\" data-trackable=\"standfirst-link\" data-trackable-context-story-link=\"standfirst-link\" href=\"/content/8bffdfc5-c2eb-4a28-9977-a8d29ea2db87\" target=\"_self\"><span class=\"text text--color-black-60 text-sans--scale-0 text--style--no-active-state\" id=\"\">A new documentary about the world’s most famous homemaker helped crystallise my feelings about Donald Trump</span></a></p>, <p class=\"standfirst\"><a aria-hidden=\"false\" class=\"link\" data-trackable=\"standfirst-link\" data-trackable-context-story-link=\"standfirst-link\" href=\"/content/23fa8dc3-df24-442e-9baf-2bf3bf9783ff\" target=\"_self\"><span class=\"text text--color-black-60 text-sans--scale-0 text--style--no-active-state\" id=\"\">Behind the scenes at the museum’s biggest-ever showcase of its staff art</span></a></p>, <p class=\"standfirst\"><a aria-hidden=\"false\" class=\"link\" data-trackable=\"standfirst-link\" data-trackable-context-story-link=\"standfirst-link\" href=\"/content/a799ed96-9b2c-49d9-93df-72e913fe9f01\" target=\"_self\"><span class=\"text text--color-black-60 text-sans--scale-0 text--style--no-active-state\" id=\"\">The CDU leader gave up a lucrative business career and is now bidding to unseat Olaf Scholz</span></a></p>, <p class=\"standfirst\"><a aria-hidden=\"false\" class=\"link\" data-trackable=\"standfirst-link\" data-trackable-context-story-link=\"standfirst-link\" href=\"/content/8bafec8a-ced0-4cbf-a0ca-c779168f3bc2\" target=\"_self\"><span class=\"text text--color-black-60 text-sans--scale-0 text--style--no-active-state\" id=\"\">Faulty software responsible for one of UK’s biggest miscarriages of justice will continue to be used </span></a></p>, <p class=\"standfirst\"><a aria-hidden=\"false\" class=\"link\" data-trackable=\"standfirst-link\" data-trackable-context-story-link=\"standfirst-link\" href=\"/content/8901f749-03dd-4fbd-8cf0-a0d394960aae\" target=\"_self\"><span class=\"text text--color-black-60 text-sans--scale-0 text--style--no-active-state\" id=\"\">Resolution would move Iran-backed Hizbollah troops north of the Litani river and create multinational task force</span></a></p>, <p class=\"standfirst\"><a aria-hidden=\"false\" class=\"link\" data-trackable=\"standfirst-link\" data-trackable-context-story-link=\"standfirst-link\" href=\"/content/760ec80b-68ef-471a-b712-23c4cc16d1ed\" target=\"_self\"><span class=\"text text--color-black-60 text-sans--scale-0 text--style--no-active-state\" id=\"\">Dollar surge and Trump win brings metal’s rally to a halt</span></a></p>, <p class=\"standfirst\"><a aria-hidden=\"false\" class=\"link\" data-trackable=\"standfirst-link\" data-trackable-context-story-link=\"standfirst-link\" href=\"/content/e013bfdf-848a-4891-8d4f-1e4aff04985a\" target=\"_self\"><span class=\"text text--color-black-60 text-sans--scale-0 text--style--no-active-state\" id=\"\">Billionaire known for vacuums and hairdryers has become one of UK’s largest farmers</span></a></p>, <p class=\"standfirst\"><a aria-hidden=\"false\" class=\"link\" data-trackable=\"standfirst-link\" data-trackable-context-story-link=\"standfirst-link\" href=\"/content/342e304b-4c09-4951-8bba-bc9a27ddb726\" target=\"_self\"><span class=\"text text--color-black-60 text-sans--scale-0 text--style--no-active-state\" id=\"\">Billionaire’s rocket builder plots huge share sale while AI start-up closes in on $5bn funding round</span></a></p>, <p class=\"standfirst\"><a aria-hidden=\"false\" class=\"link\" data-trackable=\"standfirst-link\" data-trackable-context-story-link=\"standfirst-link\" href=\"/content/78cf0692-4f4b-4d22-95ba-91015ff39c69\" target=\"_self\"><span class=\"text text--color-black-60 text-sans--scale-0 text--style--no-active-state\" id=\"\">Move is latest sign of government’s push to loosen City of London regulation </span></a></p>, <p class=\"standfirst\"><a aria-hidden=\"false\" class=\"link\" data-trackable=\"standfirst-link\" data-trackable-context-story-link=\"standfirst-link\" href=\"/content/bc5c0163-2bf1-4f15-9b0b-9d5602412c65\" target=\"_self\"><span class=\"text text--color-black-60 text-sans--scale-0 text--style--no-active-state\" id=\"\">The forced closure of a US-owned site in Yucatán asks questions about new president Claudia Sheinbaum and the private sector</span></a></p>, <p class=\"standfirst\"><a aria-hidden=\"false\" class=\"link\" data-trackable=\"standfirst-link\" data-trackable-context-story-link=\"standfirst-link\" href=\"/content/dd13f59d-08be-49b1-91f0-3fb01244be45\" target=\"_self\"><span class=\"text text--color-black-60 text-sans--scale-0 text--style--no-active-state\" id=\"\">In many ways, the Church of England is an institution ill at ease with itself</span></a></p>, <p class=\"standfirst\"><a aria-hidden=\"false\" class=\"link\" data-trackable=\"standfirst-link\" data-trackable-context-story-link=\"standfirst-link\" href=\"/content/4ace09be-2b53-4312-be8d-ad7c0accd747\" target=\"_self\"><span class=\"text text--color-black-60 text-sans--scale-0 text--style--no-active-state\" id=\"\">Individual tragedies indicate a systemic problem that Whitehall needs to look at fast</span></a></p>, <p class=\"standfirst\"><a aria-hidden=\"false\" class=\"link\" data-trackable=\"standfirst-link\" data-trackable-context-story-link=\"standfirst-link\" href=\"/content/37d8ca59-31c8-4684-99cb-a79492accebd\" target=\"_self\"><span class=\"text text--color-black-60 text-sans--scale-0 text--style--no-active-state\" id=\"\">System would replace old single-word assessments of overall standards</span></a></p>, <p class=\"standfirst\"><a aria-hidden=\"false\" class=\"link\" data-trackable=\"standfirst-link\" data-trackable-context-story-link=\"standfirst-link\" href=\"/content/5ea6dc34-271f-41a5-aa5f-6c716f0f91f0\" target=\"_self\"><span class=\"text text--color-black-60 text-sans--scale-0 text--style--no-active-state\" id=\"\">Civil war creeps closer to an archaeological site with more pyramids than the whole of Egypt</span></a></p>, <p class=\"standfirst\"><a aria-hidden=\"false\" class=\"link\" data-trackable=\"standfirst-link\" data-trackable-context-story-link=\"standfirst-link\" href=\"/content/3848e730-3f77-4753-a28e-8e8dc16896c2\" target=\"_self\"><span class=\"text text--color-black-60 text-sans--scale-0 text--style--no-active-state\" id=\"\">Rally in dollar debt is unlikely ‘Trump trade’ and comes just months after huge restructuring</span></a></p>, <p class=\"standfirst\"><a aria-hidden=\"false\" class=\"link\" data-trackable=\"standfirst-link\" data-trackable-context-story-link=\"standfirst-link\" href=\"/content/64248873-e0b7-4fc4-b95b-68b7fe6b90ec\" target=\"_self\"><span class=\"text text--color-black-60 text-sans--scale-0 text--style--no-active-state\" id=\"\">Heavily promoted bout will test the platform’s push into live events and sport as it tries to attract younger men</span></a></p>, <p class=\"community-home-page-slice__strapline\">Discover unmissable flagship events with FT journalists to expand your thinking and elevate your career</p>, <p class=\"community-home-page-slice__strapline\">FT Forums is a series of members only communities, powered by the Financial Times</p>]\n",
      "\n",
      "SUMMARY\n",
      " Ukrainian intelligence says weapons being sent to Russia’s Kursk region to attack Kyiv’s forces President-elect wants to force Tehran to drop its nuclear programme and stop funding regional proxies Controversial picks such as Matt Gaetz and Robert F Kennedy Jr will face hurdles even in a Republican-controlled Senate Prime minister will defend ‘hard decisions’ in speech to Welsh Labour conference on Saturday Carmakers fear goals unreachable as consumer demand softens Share price in US president-elect’s media group has been slipping despite high turnover among retail investors As more international ‘digital nomads’ contemplate turning a ski-holiday retreat into four-season mountain living, resorts and architects are stepping up to meet new expectations A safari in the country’s far north tracks back 1.6 million years to the roots of humanity A new documentary about the world’s most famous homemaker helped crystallise my feelings about Donald Trump Behind the scenes at the museum’s biggest-ever showcase of its staff art The CDU leader gave up a lucrative business career and is now bidding to unseat Olaf Scholz Faulty software responsible for one of UK’s biggest miscarriages of justice will continue to be used Resolution would move Iran-backed Hizbollah troops north of the Litani river and\n"
     ]
    }
   ],
   "source": [
    "## This code will retrive HTML information from FT's website and will give a summary in 200 words\n",
    "\n",
    "import requests\n",
    "from bs4 import BeautifulSoup\n",
    "\n",
    "\n",
    "url = 'https://www.ft.com/'\n",
    "\n",
    "response = requests.get(url)\n",
    "\n",
    "# Check if the request was successful\n",
    "if response.status_code == 200:\n",
    "    \n",
    "    soup = BeautifulSoup(response.content, 'html.parser')\n",
    "    \n",
    "    # Finding all the headings on the webpage\n",
    "    paragraphs = soup.find_all('p')\n",
    "    print(paragraphs)\n",
    "    # Combine text from all paragraphs \n",
    "    text_content = ' '.join([para.text for para in paragraphs]) \n",
    "    \n",
    "    # Create and print a summary \n",
    "    summary = ' '.join(text_content.split()[:200])\n",
    "    print('\\nSUMMARY\\n',summary)\n",
    "else:\n",
    "    print(f'Failed. Status code: {response.status_code}')\n"
   ]
  },
  {
   "cell_type": "code",
   "execution_count": null,
   "id": "e1dbc478-9495-4696-91e5-e1e04bbdfe7c",
   "metadata": {},
   "outputs": [],
   "source": []
  }
 ],
 "metadata": {
  "kernelspec": {
   "display_name": "Python 3 (ipykernel)",
   "language": "python",
   "name": "python3"
  },
  "language_info": {
   "codemirror_mode": {
    "name": "ipython",
    "version": 3
   },
   "file_extension": ".py",
   "mimetype": "text/x-python",
   "name": "python",
   "nbconvert_exporter": "python",
   "pygments_lexer": "ipython3",
   "version": "3.12.7"
  }
 },
 "nbformat": 4,
 "nbformat_minor": 5
}
