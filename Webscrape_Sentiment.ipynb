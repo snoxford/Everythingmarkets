{
 "cells": [
  {
   "cell_type": "code",
   "execution_count": 14,
   "id": "def4d934-9a8e-4625-86f5-6325aa287e37",
   "metadata": {},
   "outputs": [
    {
     "name": "stdout",
     "output_type": "stream",
     "text": [
      "\n",
      "\n",
      "\n",
      "Sentence: Weapons arsenal in Bryansk hit after Biden administration lifts restrictions on Kyiv’s use of Atacms Swedish investigators are looking into Yi Peng 3 bulk carrier that was travelling from Russia to Egypt Cantor Fitzgerald boss to also have ‘direct responsibility’ for the office of the US trade representative Comments by would-be US ambassador are in direct contrast to UK government policy   Mark Parsons, who led exascale in Edinburgh, says it would be a ‘disaster’ if funding is not restarted   The Deed of Indemnity is published at last The government’s internal estimate will heap pressure on Starmer to backtrack on the contentious policy  UK premier said he had ‘frank’ discussions with Xi Jinping at G20 but declined to air criticism publicly  Move by famously secretive hedge fund follows others in rushing to ink deals with big names in alternative assets Union leader tells rally that inheritance tax reforms are ‘kick in the teeth’ for the struggling sector Talks with UN nuclear agency signal republic could be willing to make compromises on nuclear programme Pablo Di Si leaves carmaker ‘at own request’ to be replaced by Porsche veteran amid push to regain US market share Federal police say group had eyed killings of then president-elect along with his deputy and a supreme court judge More than nine in 10 UK-based union members at Guardian Media Group back the case for industrial action Unsealed indictment alleges the company’s late founder, Claude Dauphin, masterminded the scheme Retailer reports revenues of $169.6bn as lingering inflation draws wealthier consumers to low-price products Benjamin Netanyahu reveals details in parliament despite US pressure to avoid targeting nuclear sites Advances in reasoning will lead to substantially improved capabilities in mathematics and science  One irony of the president-elect’s campaign of destruction is that the government is in dire need of reform Bank governor tells MPs it will take time to assess the impact of national insurance rise Legal threats, skills shortages and regulatory challenges complicate reopening of plant at site of nuclear accident   Truth Social owner is close to an all-share takeover of Intercontinental Exchange’s Bakkt Advances in reasoning will lead to substantially improved capabilities in mathematics and science  Discover unmissable flagship events with FT journalists to expand your thinking and elevate your career FT Forums is a series of members only communities, powered by the Financial Times\n",
      "\n",
      "\n",
      "\n",
      "Sentiment: Sentiment(polarity=0.11574074074074073, subjectivity=0.34722222222222215)\n",
      "---\n",
      "Polarity: This indicates how positive or negative the text is, \n",
      "ranging from -1 (very negative) to 1 (very positive). In your case, \n",
      "a polarity of 0.087 means the text is slightly positive.\n",
      "\n",
      "Subjectivity: This measures how subjective (personal opinion, emotion) \n",
      "or objective (factual information) the text is, \n",
      "ranging from 0 (completely objective) to 1 (completely subjective). \n",
      "A subjectivity score of 0.364 suggests that the text is somewhat objective, \n",
      "leaning towards neutral but with a hint of personal opinion\n"
     ]
    }
   ],
   "source": [
    "## This code will give sentiment analysis for content related to US\n",
    "## A new code is added to the earlier code where I imported summary generated from FT.com\n",
    "\n",
    "import requests\n",
    "from bs4 import BeautifulSoup\n",
    "from textblob import TextBlob\n",
    "\n",
    "\n",
    "url = 'https://www.ft.com/'\n",
    "\n",
    "response = requests.get(url)\n",
    "\n",
    "# Check if the request was successful\n",
    "if response.status_code == 200:\n",
    "    \n",
    "    soup = BeautifulSoup(response.content, 'html.parser')\n",
    "    \n",
    "    # Finding all the headings on the webpage\n",
    "    paragraphs = soup.find_all('p')\n",
    "    #print(paragraphs)\n",
    "    # Combine text from all paragraphs \n",
    "    text_content = ' '.join([para.text for para in paragraphs]) \n",
    "    \n",
    "# Extract sentences containing the word 'US' \n",
    "sentences = [sentence for sentence in text_content.split('. ') if 'US' in sentence] \n",
    "\n",
    "# Perform sentiment analysis on these sentences \n",
    "for sentence in sentences: \n",
    "    analysis = TextBlob(sentence) \n",
    "    print(f\"\\n\\n\\nSentence: {sentence}\") \n",
    "    print(f\"\\n\\n\\nSentiment: {analysis.sentiment}\") \n",
    "    print('---')\n",
    "\n",
    "print(\"\"\"Polarity: This indicates how positive or negative the text is, \n",
    "ranging from -1 (very negative) to 1 (very positive). In your case, \n",
    "a polarity of 0.087 means the text is slightly positive.\n",
    "\n",
    "Subjectivity: This measures how subjective (personal opinion, emotion) \n",
    "or objective (factual information) the text is, \n",
    "ranging from 0 (completely objective) to 1 (completely subjective). \n",
    "A subjectivity score of 0.364 suggests that the text is somewhat objective, \n",
    "leaning towards neutral but with a hint of personal opinion\"\"\")\n"
   ]
  },
  {
   "cell_type": "code",
   "execution_count": null,
   "id": "e1dbc478-9495-4696-91e5-e1e04bbdfe7c",
   "metadata": {},
   "outputs": [],
   "source": []
  }
 ],
 "metadata": {
  "kernelspec": {
   "display_name": "Python 3 (ipykernel)",
   "language": "python",
   "name": "python3"
  },
  "language_info": {
   "codemirror_mode": {
    "name": "ipython",
    "version": 3
   },
   "file_extension": ".py",
   "mimetype": "text/x-python",
   "name": "python",
   "nbconvert_exporter": "python",
   "pygments_lexer": "ipython3",
   "version": "3.12.7"
  }
 },
 "nbformat": 4,
 "nbformat_minor": 5
}
