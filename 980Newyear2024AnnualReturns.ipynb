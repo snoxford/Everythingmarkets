{
 "cells": [
  {
   "cell_type": "code",
   "execution_count": 30,
   "id": "f6ffd7e9-c72b-4da1-9513-44b42d90a3cd",
   "metadata": {},
   "outputs": [
    {
     "name": "stdout",
     "output_type": "stream",
     "text": [
      "    Ticker  2024 Return\n",
      "361   PLTR   349.504950\n",
      "476    VST   267.350480\n",
      "348   NVDA   177.712900\n",
      "461    UAL   138.027152\n",
      "54    AXON   133.933356\n",
      "..     ...          ...\n",
      "178     EL   -48.145311\n",
      "93      CE   -55.216197\n",
      "250   INTC   -60.028963\n",
      "320   MRNA   -60.402210\n",
      "481    WBA   -62.764718\n",
      "\n",
      "[503 rows x 2 columns]\n"
     ]
    }
   ],
   "source": [
    "# New year 2025 code to fetch 2024 returns of 500 S&P 500 companies \n",
    "\n",
    "import yfinance as yf\n",
    "import pandas as pd\n",
    "\n",
    "# Define a function to fetch S&P 500 tickers\n",
    "def get_sp500_tickers():\n",
    "    table = pd.read_html('https://en.wikipedia.org/wiki/List_of_S%26P_500_companies')\n",
    "    tickers = table[0]['Symbol'].tolist()\n",
    "    return tickers\n",
    "\n",
    "# Get S&P 500 ticker symbols\n",
    "sp500_tickers = get_sp500_tickers()\n",
    "\n",
    "# Create a DataFrame to store stock data\n",
    "returns_data = []\n",
    "\n",
    "# Loop through each ticker and fetch historical data\n",
    "for ticker in sp500_tickers:\n",
    "    try:\n",
    "        # Replace dots in tickers with dashes for compatibility\n",
    "        adjusted_ticker = ticker.replace('.', '-')\n",
    "        stock_data = yf.Ticker(adjusted_ticker).history(start='2023-12-29', end='2024-12-31')\n",
    "        if not stock_data.empty:\n",
    "            start_price = stock_data.iloc[0]['Close']\n",
    "            end_price = stock_data.iloc[-1]['Close']\n",
    "            annual_return = (end_price - start_price) / start_price * 100\n",
    "            returns_data.append({'Ticker': ticker, '2024 Return': annual_return})\n",
    "    except Exception as e:\n",
    "        print(f\"Skipping {ticker} due to error: {e}\")\n",
    "\n",
    "# Create DataFrame from returns data\n",
    "returns_df = pd.DataFrame(returns_data)\n",
    "\n",
    "# Sort the stocks by 2024 return in descending order\n",
    "returns_df_sorted = returns_df.sort_values(by='2024 Return', ascending=False)\n",
    "\n",
    "# Print the sorted list\n",
    "print(returns_df_sorted[['Ticker', '2024 Return']])\n"
   ]
  },
  {
   "cell_type": "code",
   "execution_count": null,
   "id": "fad7f5eb-5244-4b3a-9965-753735441621",
   "metadata": {},
   "outputs": [],
   "source": []
  }
 ],
 "metadata": {
  "kernelspec": {
   "display_name": "Python 3 (ipykernel)",
   "language": "python",
   "name": "python3"
  },
  "language_info": {
   "codemirror_mode": {
    "name": "ipython",
    "version": 3
   },
   "file_extension": ".py",
   "mimetype": "text/x-python",
   "name": "python",
   "nbconvert_exporter": "python",
   "pygments_lexer": "ipython3",
   "version": "3.12.7"
  }
 },
 "nbformat": 4,
 "nbformat_minor": 5
}
