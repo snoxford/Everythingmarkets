{
 "cells": [
  {
   "cell_type": "code",
   "execution_count": 1,
   "id": "2ee1f49d-4def-4860-ab28-cf5fc80c080a",
   "metadata": {},
   "outputs": [
    {
     "name": "stdout",
     "output_type": "stream",
     "text": [
      "                                 MSFT         SPY         QQQ\n",
      "Date                                                         \n",
      "2024-11-25 00:00:00-05:00  418.790009  597.530029  506.589996\n",
      "2024-11-26 00:00:00-05:00  427.989990  600.650024  509.309998\n",
      "2024-11-27 00:00:00-05:00  422.989990  598.830017  505.299988\n",
      "2024-11-29 00:00:00-05:00  423.459991  602.549988  509.739990\n",
      "2024-12-02 00:00:00-05:00  430.769989  603.789978  516.039978\n",
      "                                 MSFT         SPY         QQQ\n",
      "Date                                                         \n",
      "2024-11-25 00:00:00-05:00  418.790009  597.530029  506.589996\n",
      "2024-11-26 00:00:00-05:00  427.989990  600.650024  509.309998\n",
      "2024-11-27 00:00:00-05:00  422.989990  598.830017  505.299988\n",
      "2024-11-29 00:00:00-05:00  423.459991  602.549988  509.739990\n",
      "2024-12-02 00:00:00-05:00  430.769989  603.789978  516.039978\n",
      "                                 MSFT         SPY         QQQ   MSFT_next\n",
      "Date                                                                     \n",
      "2024-11-22 00:00:00-05:00  417.000000  595.510010  505.790009  418.790009\n",
      "2024-11-25 00:00:00-05:00  418.790009  597.530029  506.589996  427.989990\n",
      "2024-11-26 00:00:00-05:00  427.989990  600.650024  509.309998  422.989990\n",
      "2024-11-27 00:00:00-05:00  422.989990  598.830017  505.299988  423.459991\n",
      "2024-11-29 00:00:00-05:00  423.459991  602.549988  509.739990  430.769989\n",
      "[[603.78997803 430.76998901 516.03997803]]\n",
      "[428.05549133]\n",
      "                       Date  SPY Prev Close  MSFT Prev Close  QQQ Prev Close  \\\n",
      "0 2024-12-03 00:00:00-05:00      603.789978       430.769989      516.039978   \n",
      "\n",
      "   Predicted_MSFT  \n",
      "0      428.055491  \n"
     ]
    },
    {
     "name": "stderr",
     "output_type": "stream",
     "text": [
      "C:\\Users\\saura\\anaconda3\\Lib\\site-packages\\sklearn\\base.py:493: UserWarning: X does not have valid feature names, but RandomForestRegressor was fitted with feature names\n",
      "  warnings.warn(\n"
     ]
    }
   ],
   "source": [
    "##Updated MSFT price prediction using RandomForest machine learning model\n",
    "\n",
    "import yfinance as yf\n",
    "import pandas as pd\n",
    "from sklearn.ensemble import RandomForestRegressor\n",
    "import numpy as np\n",
    "import matplotlib.pyplot as plt\n",
    "\n",
    "# Fetch historical data\n",
    "msft = yf.Ticker(\"MSFT\")\n",
    "spy = yf.Ticker(\"SPY\")\n",
    "qqq = yf.Ticker(\"QQQ\")\n",
    "\n",
    "msft_hist = msft.history(period=\"5y\")\n",
    "spy_hist = spy.history(period=\"5y\")\n",
    "qqq_hist = qqq.history(period=\"5y\")\n",
    "\n",
    "# Align dates\n",
    "data = pd.DataFrame({\n",
    "    'MSFT': msft_hist['Close'],\n",
    "    'SPY': spy_hist['Close'],\n",
    "    'QQQ': qqq_hist['Close']\n",
    "}).dropna()\n",
    "\n",
    "data2 = data\n",
    "\n",
    "print(data.tail(5))\n",
    "print(data2.tail(5))\n",
    "\n",
    "# Create target variable (next day's closing price)\n",
    "data2['MSFT_next'] = data2['MSFT'].shift(-1)\n",
    "data2 = data2.dropna()\n",
    "print(data2.tail(5))\n",
    "\n",
    "# Split the data into features (X) and target (y)\n",
    "X = data2[['SPY', 'MSFT', 'QQQ']]\n",
    "y = data2['MSFT_next']\n",
    "\n",
    "# Train the model\n",
    "model = RandomForestRegressor(n_estimators=100, random_state=42)\n",
    "model.fit(X, y)\n",
    "\n",
    "# Get the most recent data point\n",
    "last_row = data.iloc[-1]\n",
    "\n",
    "# Predict the next day's MSFT price\n",
    "next_day_features = np.array([[last_row['SPY'], last_row['MSFT'], last_row['QQQ']]])\n",
    "next_day_prediction = model.predict(next_day_features)\n",
    "print(next_day_features)\n",
    "print(next_day_prediction)\n",
    "\n",
    "# Create a DataFrame for the future prediction\n",
    "from pandas.tseries.offsets import BDay\n",
    "future_date = last_row.name + BDay(1)\n",
    "future_data = pd.DataFrame({\n",
    "    'Date': [future_date],\n",
    "    'SPY Prev Close': [last_row['SPY']],\n",
    "    'MSFT Prev Close': [last_row['MSFT']],\n",
    "    'QQQ Prev Close': [last_row['QQQ']],\n",
    "    'Predicted_MSFT': [next_day_prediction[0]]\n",
    "})\n",
    "\n",
    "# Display the future prediction DataFrame\n",
    "print(future_data)\n"
   ]
  },
  {
   "cell_type": "code",
   "execution_count": null,
   "id": "504d20ea-f7d3-402a-881e-a7b91bd3a4c5",
   "metadata": {},
   "outputs": [],
   "source": []
  }
 ],
 "metadata": {
  "kernelspec": {
   "display_name": "Python 3 (ipykernel)",
   "language": "python",
   "name": "python3"
  },
  "language_info": {
   "codemirror_mode": {
    "name": "ipython",
    "version": 3
   },
   "file_extension": ".py",
   "mimetype": "text/x-python",
   "name": "python",
   "nbconvert_exporter": "python",
   "pygments_lexer": "ipython3",
   "version": "3.12.7"
  }
 },
 "nbformat": 4,
 "nbformat_minor": 5
}
