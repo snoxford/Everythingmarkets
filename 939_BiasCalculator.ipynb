{
 "cells": [
  {
   "cell_type": "code",
   "execution_count": null,
   "id": "8d5460c2-ac25-4ed2-9755-0b7659eca25c",
   "metadata": {},
   "outputs": [
    {
     "name": "stderr",
     "output_type": "stream",
     "text": [
      "Device set to use cpu\n",
      "C:\\Users\\saura\\AppData\\Local\\Programs\\Python\\Python310\\lib\\site-packages\\transformers\\pipelines\\text_classification.py:106: UserWarning: `return_all_scores` is now deprecated,  if want a similar functionality use `top_k=None` instead of `return_all_scores=True` or `top_k=1` instead of `return_all_scores=False`.\n",
      "  warnings.warn(\n"
     ]
    },
    {
     "name": "stdout",
     "output_type": "stream",
     "text": [
      "Bias Classifier (Transformers) - Type 'exit' to quit.\n"
     ]
    },
    {
     "name": "stdin",
     "output_type": "stream",
     "text": [
      "\n",
      "Enter text to check for bias:  We have stricter requirements for businesses in your sector Bias classification scores:\n"
     ]
    },
    {
     "name": "stderr",
     "output_type": "stream",
     "text": [
      "Compiling the model with `torch.compile` and using a `torch.cpu` device is not supported. Falling back to non-compiled mode.\n"
     ]
    },
    {
     "name": "stdout",
     "output_type": "stream",
     "text": [
      "Bias classification scores:\n",
      "  Label: gender, Score: 0.4085\n",
      "  Label: racial, Score: 0.3481\n",
      "  Label: disability, Score: 0.2920\n",
      "  Label: sexuality, Score: 0.0918\n",
      "  Label: socioeconomic, Score: 0.0394\n",
      "\n",
      "Specific check for 'Racial' label score: 0.3481\n"
     ]
    },
    {
     "name": "stdin",
     "output_type": "stream",
     "text": [
      "\n",
      "Enter text to check for bias:  Let me connect you with a specialist who handles black business accounts.\n"
     ]
    },
    {
     "name": "stdout",
     "output_type": "stream",
     "text": [
      "Bias classification scores:\n",
      "  Label: racial, Score: 0.9978\n",
      "  Label: socioeconomic, Score: 0.2070\n",
      "  Label: nationality, Score: 0.0290\n",
      "  Label: educational, Score: 0.0066\n",
      "  Label: political, Score: 0.0047\n",
      "\n",
      "Specific check for 'Racial' label score: 0.9978\n"
     ]
    }
   ],
   "source": [
    "# Real-time Bias Classification using Transformers\n",
    "from transformers import pipeline\n",
    "\n",
    "\n",
    "bias_pipeline = pipeline(\"text-classification\",\n",
    "                         model=\"cirimus/modernbert-large-bias-type-classifier\",\n",
    "                         return_all_scores=True) # Return scores for all labels\n",
    "\n",
    "print(\"Bias Classifier (Transformers) - Type 'exit' to quit.\")\n",
    "while True:\n",
    "    text_input = input(\"\\nEnter text to check for bias: \")\n",
    "    if text_input.lower() == 'exit':\n",
    "        break\n",
    "    try:\n",
    "        results = bias_pipeline(text_input)[0] \n",
    "\n",
    "        \n",
    "        print(\"Bias classification scores:\")\n",
    "        sorted_results = sorted(results, key=lambda x: x['score'], reverse=True)\n",
    "        for result in sorted_results[:5]:\n",
    "             print(f\"  Label: {result['label']}, Score: {result['score']:.4f}\")\n",
    "\n",
    "        \n",
    "        racial_bias_score = None\n",
    "        for result in results:\n",
    "            if result['label'].lower() == 'racial': \n",
    "                racial_bias_score = result['score']\n",
    "                break\n",
    "\n",
    "        if racial_bias_score is not None:\n",
    "            print(f\"\\nSpecific check for 'Racial' label score: {racial_bias_score:.4f}\")\n",
    "                \n",
    "\n",
    "    except Exception as e:\n",
    "        print(f\"An error occurred: {e}\")\n",
    "        print(\"Please try different text.\")"
   ]
  },
  {
   "cell_type": "code",
   "execution_count": null,
   "id": "13155d97-dcc6-4b1a-b20b-20ac4bb7f06b",
   "metadata": {},
   "outputs": [],
   "source": []
  }
 ],
 "metadata": {
  "kernelspec": {
   "display_name": "Python 3 (ipykernel)",
   "language": "python",
   "name": "python3"
  },
  "language_info": {
   "codemirror_mode": {
    "name": "ipython",
    "version": 3
   },
   "file_extension": ".py",
   "mimetype": "text/x-python",
   "name": "python",
   "nbconvert_exporter": "python",
   "pygments_lexer": "ipython3",
   "version": "3.10.0"
  }
 },
 "nbformat": 4,
 "nbformat_minor": 5
}
