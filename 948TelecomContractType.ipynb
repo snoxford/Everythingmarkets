{
 "cells": [
  {
   "cell_type": "code",
   "execution_count": 3,
   "id": "0cff6c36-ec4b-41ce-82cd-4d1598562afa",
   "metadata": {},
   "outputs": [
    {
     "name": "stdout",
     "output_type": "stream",
     "text": [
      "Data imported successfully.\n",
      "         Contract  Total_Customers  Churn_Rate_Percentage  Avg_Tenure_Months  \\\n",
      "0  Month-to-month             3875                  42.71              18.04   \n",
      "1        One year             1473                  11.27              42.04   \n",
      "2        Two year             1695                   2.83              56.74   \n",
      "\n",
      "   Avg_Monthly_Charges  Total_Revenue  \n",
      "0                66.40      5305861.5  \n",
      "1                65.05      4467053.5  \n",
      "2                60.77      6283253.7  \n"
     ]
    }
   ],
   "source": [
    "#Code to Retrieve Telecom Data from SQL and Summarize Customers by Contract Type\n",
    "\n",
    "import pandas as pd\n",
    "import sqlite3\n",
    "\n",
    "# Load dataset\n",
    "url = \"https://raw.githubusercontent.com/IBM/telco-customer-churn-on-icp4d/master/data/Telco-Customer-Churn.csv\"\n",
    "df = pd.read_csv(url)\n",
    "print(\"Data imported successfully.\")\n",
    "\n",
    "\n",
    "conn = sqlite3.connect(\"customer_data.db\")\n",
    "df.to_sql(\"Telco_customers\", conn, if_exists=\"replace\", index=False)\n",
    "\n",
    "\n",
    "full_df = pd.read_sql_query(\"SELECT * FROM Telco_customers\", conn)\n",
    "\n",
    "\n",
    "full_df['Churn'] = full_df['Churn'].apply(lambda x: 1 if x == 'Yes' else 0)\n",
    "full_df['TotalCharges'] = pd.to_numeric(full_df['TotalCharges'], errors='coerce')  # Convert TotalCharges to numeric\n",
    "full_df['tenure'] = pd.to_numeric(full_df['tenure'], errors='coerce')  # Ensure tenure is numeric\n",
    "\n",
    "# Generate summary statistics by contract type\n",
    "contract_summary = full_df.groupby(\"Contract\").agg(\n",
    "    Total_Customers=(\"customerID\", \"count\"),\n",
    "    Churn_Rate_Percentage=(\"Churn\", lambda x: round(x.mean() * 100, 2)),  # Convert to percentage\n",
    "    Avg_Tenure_Months=(\"tenure\", \"mean\"),\n",
    "    Avg_Monthly_Charges=(\"MonthlyCharges\", \"mean\"),\n",
    "    Total_Revenue=(\"TotalCharges\", \"sum\")\n",
    ").reset_index()\n",
    "\n",
    "contract_summary = contract_summary.round(2)\n",
    "\n",
    "print(contract_summary)\n",
    "\n",
    "conn.close()\n"
   ]
  },
  {
   "cell_type": "code",
   "execution_count": null,
   "id": "c781250d-0eb6-4248-b771-bd975b690074",
   "metadata": {},
   "outputs": [],
   "source": []
  }
 ],
 "metadata": {
  "kernelspec": {
   "display_name": "Python 3 (ipykernel)",
   "language": "python",
   "name": "python3"
  },
  "language_info": {
   "codemirror_mode": {
    "name": "ipython",
    "version": 3
   },
   "file_extension": ".py",
   "mimetype": "text/x-python",
   "name": "python",
   "nbconvert_exporter": "python",
   "pygments_lexer": "ipython3",
   "version": "3.12.7"
  }
 },
 "nbformat": 4,
 "nbformat_minor": 5
}
