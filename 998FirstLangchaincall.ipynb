{
 "cells": [
  {
   "cell_type": "code",
   "execution_count": 25,
   "id": "169b69ab-1817-42bc-a217-5399194b66c8",
   "metadata": {},
   "outputs": [],
   "source": [
    "## This is a simple code to invoke OpenAI langchain and use it to tell a short story\n",
    "\n",
    "from langchain_openai import ChatOpenAI\n",
    "\n",
    "# Initialize the language model\n",
    "llm = ChatOpenAI(api_key=\"hiddenkey\")\n",
    "\n",
    "# Invoke the model directly (optional)\n",
    "response = llm.invoke(\"Tell me a short story?\")\n",
    "print(response)\n",
    "\n",
    "# Define a simple prompt template\n",
    "prompt_template = ChatPromptTemplate.from_messages([\n",
    "    (\"system\", \"You are a world class storyteller.\"),\n",
    "    (\"user\", \"{input}\")\n",
    "])\n",
    "\n",
    "\n",
    "chain = SimpleChain(llm=llm, prompt_template=prompt_template)\n",
    "\n",
    "# Define the input for the chain\n",
    "input_data = {\"input\": \"Tell me a story?\"}\n",
    "\n",
    "# Generate text using the chain\n",
    "generated_text = chain.invoke(input_data)\n",
    "\n",
    "\n",
    "print(generated_text)\n",
    "\n",
    "\n"
   ]
  },
  {
   "cell_type": "code",
   "execution_count": null,
   "id": "c216342e-d3f1-48fc-acd0-2a59e391b00c",
   "metadata": {},
   "outputs": [],
   "source": []
  }
 ],
 "metadata": {
  "kernelspec": {
   "display_name": "Python 3 (ipykernel)",
   "language": "python",
   "name": "python3"
  },
  "language_info": {
   "codemirror_mode": {
    "name": "ipython",
    "version": 3
   },
   "file_extension": ".py",
   "mimetype": "text/x-python",
   "name": "python",
   "nbconvert_exporter": "python",
   "pygments_lexer": "ipython3",
   "version": "3.12.7"
  }
 },
 "nbformat": 4,
 "nbformat_minor": 5
}
