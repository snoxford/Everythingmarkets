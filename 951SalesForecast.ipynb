{
 "cells": [
  {
   "cell_type": "code",
   "execution_count": 23,
   "id": "86ca9c0b-ffbd-4b34-9112-c2c1e8e58481",
   "metadata": {},
   "outputs": [
    {
     "name": "stdout",
     "output_type": "stream",
     "text": [
      "Lag added for  1 quarters\n",
      "                            OLS Regression Results                            \n",
      "==============================================================================\n",
      "Dep. Variable:                  Sales   R-squared:                       0.873\n",
      "Model:                            OLS   Adj. R-squared:                  0.861\n",
      "Method:                 Least Squares   F-statistic:                     72.69\n",
      "Date:                Wed, 20 Nov 2024   Prob (F-statistic):           1.70e-22\n",
      "Time:                        18:59:41   Log-Likelihood:                -266.43\n",
      "No. Observations:                  59   AIC:                             544.9\n",
      "Df Residuals:                      53   BIC:                             557.3\n",
      "Df Model:                           5                                         \n",
      "Covariance Type:            nonrobust                                         \n",
      "==============================================================================\n",
      "                 coef    std err          t      P>|t|      [0.025      0.975]\n",
      "------------------------------------------------------------------------------\n",
      "const        166.7028      7.864     21.199      0.000     150.930     182.475\n",
      "Prom           1.1603      0.077     15.027      0.000       1.005       1.315\n",
      "Adv            0.4060      0.081      5.016      0.000       0.244       0.568\n",
      "Q2           -17.4904      7.021     -2.491      0.016     -31.573      -3.408\n",
      "Adv_Lag1       0.4704      0.082      5.769      0.000       0.307       0.634\n",
      "Prom_Lag1     -0.5627      0.077     -7.338      0.000      -0.716      -0.409\n",
      "==============================================================================\n",
      "Omnibus:                        2.639   Durbin-Watson:                   1.853\n",
      "Prob(Omnibus):                  0.267   Jarque-Bera (JB):                1.827\n",
      "Skew:                           0.248   Prob(JB):                        0.401\n",
      "Kurtosis:                       3.705   Cond. No.                         356.\n",
      "==============================================================================\n",
      "\n",
      "Notes:\n",
      "[1] Standard Errors assume that the covariance matrix of the errors is correctly specified.\n"
     ]
    }
   ],
   "source": [
    "#This program finds the lag between Advertising and Sales spend vs realized Sales\n",
    "# The lag is determined using simple OLS/linear regression\n",
    "\n",
    "\n",
    "import pandas as pd\n",
    "import statsmodels.api as sm\n",
    "\n",
    "\n",
    "file_path = 'SaltPath.xlsx'  \n",
    "df = pd.read_excel(file_path)\n",
    "\n",
    "# Drop Q4 for multicollinearity\n",
    "df = df.drop(columns=['Q4'])\n",
    "\n",
    "# Create a function to fit models with different lags and return the best one based on R-squared\n",
    "def fit_best_model(df):\n",
    "    best_r2 = -float('inf')\n",
    "    best_model = None\n",
    "    best_lag = 0\n",
    "\n",
    "    for lag in range(1, 5):  # Test lags from 1 to 4 quarters\n",
    "        df[f'Adv_Lag{lag}'] = df['Adv'].shift(lag)\n",
    "        df[f'Prom_Lag{lag}'] = df['Prom'].shift(lag)\n",
    "        df_lagged = df.dropna()\n",
    "\n",
    "        Y = df_lagged['Sales']\n",
    "        X = df_lagged[['Prom', 'Adv', 'Q2', f'Adv_Lag{lag}', f'Prom_Lag{lag}']]\n",
    "        X = sm.add_constant(X)\n",
    "\n",
    "        model = sm.OLS(Y, X).fit()\n",
    "        if model.rsquared > best_r2:\n",
    "            best_r2 = model.rsquared\n",
    "            best_model = model\n",
    "            best_lag = lag\n",
    "\n",
    "    return best_model, best_lag\n",
    "\n",
    "print('Lag added for ',best_lag, 'quarters')\n",
    "\n",
    "# Fit the best model\n",
    "best_model, best_lag = fit_best_model(df)\n",
    "\n",
    "print(best_model.summary())\n"
   ]
  },
  {
   "cell_type": "code",
   "execution_count": null,
   "id": "3b4783d7-8a99-48db-a8b5-bf4805d86f11",
   "metadata": {},
   "outputs": [],
   "source": []
  }
 ],
 "metadata": {
  "kernelspec": {
   "display_name": "Python 3 (ipykernel)",
   "language": "python",
   "name": "python3"
  },
  "language_info": {
   "codemirror_mode": {
    "name": "ipython",
    "version": 3
   },
   "file_extension": ".py",
   "mimetype": "text/x-python",
   "name": "python",
   "nbconvert_exporter": "python",
   "pygments_lexer": "ipython3",
   "version": "3.12.7"
  }
 },
 "nbformat": 4,
 "nbformat_minor": 5
}
