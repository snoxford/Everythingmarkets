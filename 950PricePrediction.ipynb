{
 "cells": [
  {
   "cell_type": "code",
   "execution_count": 1,
   "id": "f949e33d-78eb-4f73-8af3-27dde4f18bb6",
   "metadata": {},
   "outputs": [
    {
     "name": "stdout",
     "output_type": "stream",
     "text": [
      "Price = 15069.954471229641 + (0.0) * 1 + (11762.973825909674) * Length + (-19902.002767887636) * Width + (1713.6133184636278) * Depth + (-756.3822930228071) * Length^2 + (1972.7189016648886) * Length Width + (-3959.158549507906) * Length Depth + (-270.9748653672614) * Width^2 + (3850.858997804978) * Width Depth + (-35.801078324492664) * Depth^2\n"
     ]
    }
   ],
   "source": [
    "## Program to run polynomial regression to determine price of Diamonds using Length, Width and Depth\n",
    "\n",
    "import pandas as pd\n",
    "from sklearn.preprocessing import PolynomialFeatures\n",
    "from sklearn.linear_model import LinearRegression\n",
    "from sklearn.pipeline import Pipeline\n",
    "\n",
    "# Load the data from the Excel file\n",
    "file_path = 'DiamondPrice.xlsx'  # Replace with your actual file path\n",
    "data = pd.read_excel(file_path)\n",
    "\n",
    "# Define the features and target variable\n",
    "X = data[['Length', 'Width', 'Depth']]\n",
    "y = data['Price']\n",
    "\n",
    "# Create a pipeline that will create polynomial features and then fit a linear regression model\n",
    "degree = 2  # Replace with the degree of the polynomial you want to use\n",
    "pipeline = Pipeline([\n",
    "    ('poly_features', PolynomialFeatures(degree=degree)),\n",
    "    ('linear_regression', LinearRegression())\n",
    "])\n",
    "\n",
    "# Fit the model\n",
    "pipeline.fit(X, y)\n",
    "\n",
    "# Get the model coefficients\n",
    "poly_features = pipeline.named_steps['poly_features']\n",
    "linear_regression = pipeline.named_steps['linear_regression']\n",
    "\n",
    "coefficients = linear_regression.coef_\n",
    "intercept = linear_regression.intercept_\n",
    "\n",
    "# Get the names of the polynomial features\n",
    "feature_names = poly_features.get_feature_names_out(['Length', 'Width', 'Depth'])\n",
    "\n",
    "# Print the regression equation\n",
    "equation = f\"Price = {intercept}\"\n",
    "for coef, feature in zip(coefficients, feature_names):\n",
    "    equation += f\" + ({coef}) * {feature}\"\n",
    "\n",
    "print(equation)\n"
   ]
  },
  {
   "cell_type": "code",
   "execution_count": null,
   "id": "0bed5898-b86a-4b89-9b32-9229993b7df5",
   "metadata": {},
   "outputs": [],
   "source": []
  }
 ],
 "metadata": {
  "kernelspec": {
   "display_name": "Python 3 (ipykernel)",
   "language": "python",
   "name": "python3"
  },
  "language_info": {
   "codemirror_mode": {
    "name": "ipython",
    "version": 3
   },
   "file_extension": ".py",
   "mimetype": "text/x-python",
   "name": "python",
   "nbconvert_exporter": "python",
   "pygments_lexer": "ipython3",
   "version": "3.12.7"
  }
 },
 "nbformat": 4,
 "nbformat_minor": 5
}
