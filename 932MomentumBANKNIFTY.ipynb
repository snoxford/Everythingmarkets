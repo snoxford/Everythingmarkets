{
 "cells": [
  {
   "cell_type": "code",
   "execution_count": 1,
   "id": "82821af8-da17-47cc-8c78-fe111cc1bd6d",
   "metadata": {},
   "outputs": [
    {
     "name": "stdout",
     "output_type": "stream",
     "text": [
      "Fetching Bank Nifty data from 2005-06-05 to 2025-06-05...\n",
      "YF.download() has changed argument auto_adjust default to True\n"
     ]
    },
    {
     "name": "stderr",
     "output_type": "stream",
     "text": [
      "[*********************100%***********************]  1 of 1 completed\n"
     ]
    },
    {
     "name": "stdout",
     "output_type": "stream",
     "text": [
      "Data successfully saved to bank_nifty_daily_close_20_years_yfinance.xlsx\n"
     ]
    }
   ],
   "source": [
    "## Code to import historical closing price of BANKNIFTY (the banking index in India)\n",
    "\n",
    "import yfinance as yf\n",
    "from datetime import datetime, timedelta\n",
    "import pandas as pd\n",
    "\n",
    "def get_banknifty_daily_close(start_date, end_date):\n",
    "    \"\"\"\n",
    "    Fetches Bank Nifty historical daily data using yfinance.\n",
    "    \"\"\"\n",
    "    ticker_symbol = \"^NSEBANK\"  # Yahoo Finance ticker for Bank Nifty\n",
    "    try:\n",
    "        data = yf.download(ticker_symbol, start=start_date, end=end_date, interval=\"1d\")\n",
    "        return data\n",
    "    except Exception as e:\n",
    "        print(f\"Error fetching data for {ticker_symbol} from {start_date} to {end_date}: {e}\")\n",
    "        return pd.DataFrame()\n",
    "\n",
    "def save_to_excel(dataframe, filename=\"bank_nifty_daily_close.xlsx\"):\n",
    "    \"\"\"\n",
    "    Saves a Pandas DataFrame to an Excel file.\n",
    "    \"\"\"\n",
    "    try:\n",
    "        dataframe.to_excel(filename, index=True) # index=True to include the Date column\n",
    "        print(f\"Data successfully saved to {filename}\")\n",
    "    except Exception as e:\n",
    "        print(f\"Error saving data to Excel: {e}\")\n",
    "\n",
    "if __name__ == \"__main__\":\n",
    "    # Define the end date as today\n",
    "    end_date = datetime.now()\n",
    "\n",
    "    # Define the start date as 20 years ago from today\n",
    "    start_date = end_date - timedelta(days=20 * 365.25) # Account for leap years\n",
    "\n",
    "    # Fetch the data\n",
    "    print(f\"Fetching Bank Nifty data from {start_date.strftime('%Y-%m-%d')} to {end_date.strftime('%Y-%m-%d')}...\")\n",
    "    banknifty_data = get_banknifty_daily_close(start_date, end_date)\n",
    "\n",
    "    if not banknifty_data.empty:\n",
    "        # We only need the 'Close' price. The index of the DataFrame will be the Date.\n",
    "        # You can select specific columns if needed, but for \"daily close data\", 'Close' is key.\n",
    "        daily_close_data = banknifty_data[['Close']]\n",
    "\n",
    "        # Save to Excel\n",
    "        save_to_excel(daily_close_data, \"bank_nifty_daily_close_20_years_yfinance.xlsx\")\n",
    "    else:\n",
    "        print(\"Failed to retrieve Bank Nifty data.\")"
   ]
  },
  {
   "cell_type": "code",
   "execution_count": null,
   "id": "92770114-f4a2-45a9-b117-5f118c826ffb",
   "metadata": {},
   "outputs": [],
   "source": []
  }
 ],
 "metadata": {
  "kernelspec": {
   "display_name": "Python 3 (ipykernel)",
   "language": "python",
   "name": "python3"
  },
  "language_info": {
   "codemirror_mode": {
    "name": "ipython",
    "version": 3
   },
   "file_extension": ".py",
   "mimetype": "text/x-python",
   "name": "python",
   "nbconvert_exporter": "python",
   "pygments_lexer": "ipython3",
   "version": "3.10.0"
  }
 },
 "nbformat": 4,
 "nbformat_minor": 5
}
