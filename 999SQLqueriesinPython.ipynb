{
 "cells": [
  {
   "cell_type": "code",
   "execution_count": 27,
   "id": "9be0f7e2-f986-4933-ae34-8730e04201f7",
   "metadata": {},
   "outputs": [
    {
     "name": "stdout",
     "output_type": "stream",
     "text": [
      "Tables in the database: 0    your_table_name\n",
      "Name: name, dtype: object\n",
      "\n",
      "Contents of table: your_table_name\n",
      "       Brand  Total Sales\n",
      "0       Acer            3\n",
      "1      Apple            3\n",
      "2       Asus            3\n",
      "3       Dell            3\n",
      "4     Google            3\n",
      "5         HP            3\n",
      "6     Lenovo            3\n",
      "7  Microsoft            3\n",
      "8    Samsung            3\n",
      "9       Sony            3\n"
     ]
    }
   ],
   "source": [
    "##This code will read a sql database stored locally and will update the table name\n",
    "## Once updated the code will run SQL query to show the contents of the table\n",
    "\n",
    "import pandas as pd\n",
    "import sqlite3\n",
    "\n",
    "# Connect to the database\n",
    "conn = sqlite3.connect('your_database.db')\n",
    "\n",
    "# List all tables in the database\n",
    "query = \"SELECT name FROM sqlite_master WHERE type='table';\"\n",
    "tables_df = pd.read_sql_query(query, conn)\n",
    "print(\"Tables in the database:\", tables_df['name'])\n",
    "\n",
    "# Loop through each table and display its contents\n",
    "for table_name in tables_df['name']:\n",
    "    print(f\"\\nContents of table: {table_name}\")\n",
    "    table_df = pd.read_sql_query(f\"SELECT * FROM {table_name}\", conn)\n",
    "    print(table_df)\n",
    "\n",
    "# Close the connection\n",
    "conn.close()\n"
   ]
  },
  {
   "cell_type": "code",
   "execution_count": 37,
   "id": "0563947a-4564-4fe1-af5e-30d089564efa",
   "metadata": {},
   "outputs": [
    {
     "name": "stdout",
     "output_type": "stream",
     "text": [
      "Tables in the database before renaming: 0    Sales_data\n",
      "Name: name, dtype: object\n",
      "Tables in the database after renaming: 0    New_Sales_data\n",
      "Name: name, dtype: object\n",
      "Contents of Sales_data:\n",
      "       Brand  Total Sales\n",
      "0       Acer            3\n",
      "1      Apple            3\n",
      "2       Asus            3\n",
      "3       Dell            3\n",
      "4     Google            3\n",
      "5         HP            3\n",
      "6     Lenovo            3\n",
      "7  Microsoft            3\n",
      "8    Samsung            3\n",
      "9       Sony            3\n"
     ]
    }
   ],
   "source": [
    "import pandas as pd\n",
    "import sqlite3\n",
    "\n",
    "# Connect to the database\n",
    "conn = sqlite3.connect('your_database.db')\n",
    "\n",
    "# List all tables in the database\n",
    "query = \"SELECT name FROM sqlite_master WHERE type='table';\"\n",
    "tables_df = pd.read_sql_query(query, conn)\n",
    "print(\"Tables in the database before renaming:\", tables_df['name'])\n",
    "\n",
    "# Rename the table\n",
    "old_table_name = 'Sales_data'\n",
    "new_table_name = 'New_Sales_data'\n",
    "rename_query = f\"ALTER TABLE {old_table_name} RENAME TO {new_table_name};\"\n",
    "conn.execute(rename_query)\n",
    "conn.commit()\n",
    "\n",
    "# Verify the table name has been changed\n",
    "tables_df = pd.read_sql_query(query, conn)\n",
    "print(\"Tables in the database after renaming:\", tables_df['name'])\n",
    "\n",
    "# Select all data from Sales_data \n",
    "query = \"SELECT * FROM New_Sales_data\" \n",
    "sales_data_df = pd.read_sql_query(query, conn) \n",
    "print(\"Contents of New_Sales_data:\") \n",
    "print(sales_data_df)\n",
    "\n",
    "# Close the connection\n",
    "conn.close()\n"
   ]
  },
  {
   "cell_type": "code",
   "execution_count": null,
   "id": "be6450ac-f26d-48be-910b-aca73efad77c",
   "metadata": {},
   "outputs": [],
   "source": []
  }
 ],
 "metadata": {
  "kernelspec": {
   "display_name": "Python 3 (ipykernel)",
   "language": "python",
   "name": "python3"
  },
  "language_info": {
   "codemirror_mode": {
    "name": "ipython",
    "version": 3
   },
   "file_extension": ".py",
   "mimetype": "text/x-python",
   "name": "python",
   "nbconvert_exporter": "python",
   "pygments_lexer": "ipython3",
   "version": "3.12.7"
  }
 },
 "nbformat": 4,
 "nbformat_minor": 5
}
